{
 "cells": [
  {
   "cell_type": "markdown",
   "metadata": {},
   "source": [
    "# VacationPy\n",
    "----\n",
    "\n",
    "#### Note\n",
    "* Keep an eye on your API usage. Use https://developers.google.com/maps/reporting/gmp-reporting as reference for how to monitor your usage and billing.\n",
    "\n",
    "* Instructions have been included for each segment. You do not have to follow them exactly, but they are included to help you think through the steps."
   ]
  },
  {
   "cell_type": "code",
   "execution_count": 1,
   "metadata": {},
   "outputs": [],
   "source": [
    "#pip install gmaps"
   ]
  },
  {
   "cell_type": "code",
   "execution_count": 1,
   "metadata": {},
   "outputs": [],
   "source": [
    "# Dependencies and Setup\n",
    "import matplotlib.pyplot as plt\n",
    "import pandas as pd\n",
    "import numpy as np\n",
    "import requests\n",
    "import gmaps\n",
    "import os\n",
    "\n",
    "# Import API key\n",
    "from api_keys import g_key"
   ]
  },
  {
   "cell_type": "markdown",
   "metadata": {},
   "source": [
    "### Store Part I results into DataFrame\n",
    "* Load the csv exported in Part I to a DataFrame"
   ]
  },
  {
   "cell_type": "code",
   "execution_count": 9,
   "metadata": {},
   "outputs": [
    {
     "output_type": "stream",
     "name": "stdout",
     "text": [
      "<bound method Series.max of 0      58.0\n1      71.0\n2      83.0\n3      41.0\n4      28.0\n       ... \n575    88.0\n576    69.0\n577    22.0\n578    68.0\n579    94.0\nName: Humidity, Length: 580, dtype: float64>\n"
     ]
    }
   ],
   "source": [
    "\n",
    "# read the cities.csv to create dataframe, previous cells are not needed to be executed as long as cities.csv was created\n",
    "cities = pd.read_csv(\"../starter_code/WeatherPy.csv\", encoding=\"utf-8\")\n",
    "cities.head()"
   ]
  },
  {
   "cell_type": "markdown",
   "metadata": {},
   "source": [
    "### Humidity Heatmap\n",
    "* Configure gmaps.\n",
    "* Use the Lat and Lng as locations and Humidity as the weight.\n",
    "* Add Heatmap layer to map."
   ]
  },
  {
   "cell_type": "code",
   "execution_count": 3,
   "metadata": {},
   "outputs": [],
   "source": [
    "humidity = cities[\"Humidity\"].astype(float)\n",
    "maxhumidity = humidity.max()\n",
    "locations = cities[[\"Lat\", \"Lng\"]]"
   ]
  },
  {
   "cell_type": "code",
   "execution_count": 4,
   "metadata": {},
   "outputs": [
    {
     "output_type": "display_data",
     "data": {
      "text/plain": "Figure(layout=FigureLayout(height='420px'))",
      "application/vnd.jupyter.widget-view+json": {
       "version_major": 2,
       "version_minor": 0,
       "model_id": "92ad79626ae34b6eb5d87be92d48b736"
      }
     },
     "metadata": {}
    }
   ],
   "source": [
    "\n",
    "fig = gmaps.figure()\n",
    "heat_layer = gmaps.heatmap_layer(locations, weights=humidity,dissipating=False, max_intensity=maxhumidity,point_radius=3)\n",
    "fig.add_layer(heat_layer)\n",
    "fig"
   ]
  },
  {
   "cell_type": "markdown",
   "metadata": {},
   "source": [
    "### Create new DataFrame fitting weather criteria\n",
    "* Narrow down the cities to fit weather conditions.\n",
    "* Drop any rows will null values."
   ]
  },
  {
   "cell_type": "code",
   "execution_count": 5,
   "metadata": {},
   "outputs": [
    {
     "output_type": "execute_result",
     "data": {
      "text/plain": [
       "           City      Lat       Lng  Max Temp  Humidity  Cloudiness  \\\n",
       "0  punta arenas -53.1500  -70.9167     71.60        23           0   \n",
       "1        castro -24.7911  -50.0119     70.77        66           0   \n",
       "2        yulara -25.2406  130.9889     73.40        35           0   \n",
       "3         pisco -13.7000  -76.2167     75.20        78           0   \n",
       "4      cidreira -30.1811  -50.2056     74.41        65           0   \n",
       "\n",
       "   Wind Speed Country        Date  \n",
       "0       13.80      CL  1612731514  \n",
       "1        4.59      BR  1612731716  \n",
       "2        6.91      AU  1612731679  \n",
       "3        4.61      PE  1612731091  \n",
       "4        9.10      BR  1612731658  "
      ],
      "text/html": "<div>\n<style scoped>\n    .dataframe tbody tr th:only-of-type {\n        vertical-align: middle;\n    }\n\n    .dataframe tbody tr th {\n        vertical-align: top;\n    }\n\n    .dataframe thead th {\n        text-align: right;\n    }\n</style>\n<table border=\"1\" class=\"dataframe\">\n  <thead>\n    <tr style=\"text-align: right;\">\n      <th></th>\n      <th>City</th>\n      <th>Lat</th>\n      <th>Lng</th>\n      <th>Max Temp</th>\n      <th>Humidity</th>\n      <th>Cloudiness</th>\n      <th>Wind Speed</th>\n      <th>Country</th>\n      <th>Date</th>\n    </tr>\n  </thead>\n  <tbody>\n    <tr>\n      <th>0</th>\n      <td>punta arenas</td>\n      <td>-53.1500</td>\n      <td>-70.9167</td>\n      <td>71.60</td>\n      <td>23</td>\n      <td>0</td>\n      <td>13.80</td>\n      <td>CL</td>\n      <td>1612731514</td>\n    </tr>\n    <tr>\n      <th>1</th>\n      <td>castro</td>\n      <td>-24.7911</td>\n      <td>-50.0119</td>\n      <td>70.77</td>\n      <td>66</td>\n      <td>0</td>\n      <td>4.59</td>\n      <td>BR</td>\n      <td>1612731716</td>\n    </tr>\n    <tr>\n      <th>2</th>\n      <td>yulara</td>\n      <td>-25.2406</td>\n      <td>130.9889</td>\n      <td>73.40</td>\n      <td>35</td>\n      <td>0</td>\n      <td>6.91</td>\n      <td>AU</td>\n      <td>1612731679</td>\n    </tr>\n    <tr>\n      <th>3</th>\n      <td>pisco</td>\n      <td>-13.7000</td>\n      <td>-76.2167</td>\n      <td>75.20</td>\n      <td>78</td>\n      <td>0</td>\n      <td>4.61</td>\n      <td>PE</td>\n      <td>1612731091</td>\n    </tr>\n    <tr>\n      <th>4</th>\n      <td>cidreira</td>\n      <td>-30.1811</td>\n      <td>-50.2056</td>\n      <td>74.41</td>\n      <td>65</td>\n      <td>0</td>\n      <td>9.10</td>\n      <td>BR</td>\n      <td>1612731658</td>\n    </tr>\n  </tbody>\n</table>\n</div>"
     },
     "metadata": {},
     "execution_count": 5
    }
   ],
   "source": [
    "narrowed_city_df = cities.loc[(cities[\"Max Temp\"] > 70) & (cities[\"Max Temp\"] < 80) & (cities[\"Cloudiness\"] == 0), :]\n",
    "narrowed_city_df = narrowed_city_df.dropna(how='any')\n",
    "narrowed_city_df.reset_index(inplace=True)\n",
    "del narrowed_city_df['index']\n",
    "narrowed_city_df.head()"
   ]
  },
  {
   "cell_type": "markdown",
   "metadata": {},
   "source": [
    "### Hotel Map\n",
    "* Store into variable named `hotel_df`.\n",
    "* Add a \"Hotel Name\" column to the DataFrame.\n",
    "* Set parameters to search for hotels with 5000 meters.\n",
    "* Hit the Google Places API for each city's coordinates.\n",
    "* Store the first Hotel result into the DataFrame.\n",
    "* Plot markers on top of the heatmap."
   ]
  },
  {
   "cell_type": "code",
   "execution_count": 6,
   "metadata": {},
   "outputs": [
    {
     "output_type": "execute_result",
     "data": {
      "text/plain": [
       "           City      Lat       Lng  Max Temp  Humidity  Cloudiness  \\\n",
       "0  punta arenas -53.1500  -70.9167     71.60        23           0   \n",
       "1        castro -24.7911  -50.0119     70.77        66           0   \n",
       "2        yulara -25.2406  130.9889     73.40        35           0   \n",
       "3         pisco -13.7000  -76.2167     75.20        78           0   \n",
       "4      cidreira -30.1811  -50.2056     74.41        65           0   \n",
       "\n",
       "   Wind Speed Country        Date    Hotel Name  \n",
       "0       13.80      CL  1612731514  Punta Arenas  \n",
       "1        4.59      BR  1612731716        Castro  \n",
       "2        6.91      AU  1612731679     Petermann  \n",
       "3        4.61      PE  1612731091         Pisco  \n",
       "4        9.10      BR  1612731658      CIDREIRA  "
      ],
      "text/html": "<div>\n<style scoped>\n    .dataframe tbody tr th:only-of-type {\n        vertical-align: middle;\n    }\n\n    .dataframe tbody tr th {\n        vertical-align: top;\n    }\n\n    .dataframe thead th {\n        text-align: right;\n    }\n</style>\n<table border=\"1\" class=\"dataframe\">\n  <thead>\n    <tr style=\"text-align: right;\">\n      <th></th>\n      <th>City</th>\n      <th>Lat</th>\n      <th>Lng</th>\n      <th>Max Temp</th>\n      <th>Humidity</th>\n      <th>Cloudiness</th>\n      <th>Wind Speed</th>\n      <th>Country</th>\n      <th>Date</th>\n      <th>Hotel Name</th>\n    </tr>\n  </thead>\n  <tbody>\n    <tr>\n      <th>0</th>\n      <td>punta arenas</td>\n      <td>-53.1500</td>\n      <td>-70.9167</td>\n      <td>71.60</td>\n      <td>23</td>\n      <td>0</td>\n      <td>13.80</td>\n      <td>CL</td>\n      <td>1612731514</td>\n      <td>Punta Arenas</td>\n    </tr>\n    <tr>\n      <th>1</th>\n      <td>castro</td>\n      <td>-24.7911</td>\n      <td>-50.0119</td>\n      <td>70.77</td>\n      <td>66</td>\n      <td>0</td>\n      <td>4.59</td>\n      <td>BR</td>\n      <td>1612731716</td>\n      <td>Castro</td>\n    </tr>\n    <tr>\n      <th>2</th>\n      <td>yulara</td>\n      <td>-25.2406</td>\n      <td>130.9889</td>\n      <td>73.40</td>\n      <td>35</td>\n      <td>0</td>\n      <td>6.91</td>\n      <td>AU</td>\n      <td>1612731679</td>\n      <td>Petermann</td>\n    </tr>\n    <tr>\n      <th>3</th>\n      <td>pisco</td>\n      <td>-13.7000</td>\n      <td>-76.2167</td>\n      <td>75.20</td>\n      <td>78</td>\n      <td>0</td>\n      <td>4.61</td>\n      <td>PE</td>\n      <td>1612731091</td>\n      <td>Pisco</td>\n    </tr>\n    <tr>\n      <th>4</th>\n      <td>cidreira</td>\n      <td>-30.1811</td>\n      <td>-50.2056</td>\n      <td>74.41</td>\n      <td>65</td>\n      <td>0</td>\n      <td>9.10</td>\n      <td>BR</td>\n      <td>1612731658</td>\n      <td>CIDREIRA</td>\n    </tr>\n  </tbody>\n</table>\n</div>"
     },
     "metadata": {},
     "execution_count": 6
    }
   ],
   "source": [
    "hotellist = []\n",
    "\n",
    "for i in range(len(narrowed_city_df)):\n",
    "    lat = narrowed_city_df.loc[i]['Lat']\n",
    "    lng = narrowed_city_df.loc[i]['Lng']\n",
    "\n",
    "    params = {\n",
    "        \"location\": f\"{lat},{lng}\",\n",
    "        \"radius\": 5000,\n",
    "        \"types\" : \"hotel\",\n",
    "        \"key\": g_key\n",
    "    }\n",
    "    \n",
    "    base_url = \"https://maps.googleapis.com/maps/api/place/nearbysearch/json\"\n",
    "    requested = requests.get(base_url, params=params)\n",
    "    jsn = requested.json()\n",
    "    try:\n",
    "        hotellist.append(jsn['results'][0]['name'])\n",
    "    except:\n",
    "        hotellist.append(\"\")\n",
    "narrowed_city_df[\"Hotel Name\"] = hotellist\n",
    "narrowed_city_df = narrowed_city_df.dropna(how='any')\n",
    "narrowed_city_df.head()"
   ]
  },
  {
   "cell_type": "code",
   "execution_count": 7,
   "metadata": {},
   "outputs": [],
   "source": [
    "\n",
    "# Using the template add the hotel marks to the heatmap\n",
    "info_box_template = \"\"\"\n",
    "<dl>\n",
    "<dt>Name</dt><dd>{Hotel Name}</dd>\n",
    "<dt>City</dt><dd>{City}</dd>\n",
    "<dt>Country</dt><dd>{Country}</dd>\n",
    "</dl>\n",
    "\"\"\"\n",
    "# Store the DataFrame Row\n",
    "\n",
    "hotel_info = [info_box_template.format(**row) for index, row in narrowed_city_df.iterrows()]\n",
    "locations = narrowed_city_df[[\"Lat\", \"Lng\"]]"
   ]
  },
  {
   "cell_type": "code",
   "execution_count": 8,
   "metadata": {},
   "outputs": [
    {
     "output_type": "display_data",
     "data": {
      "text/plain": "Figure(layout=FigureLayout(height='420px'))",
      "application/vnd.jupyter.widget-view+json": {
       "version_major": 2,
       "version_minor": 0,
       "model_id": "92ad79626ae34b6eb5d87be92d48b736"
      }
     },
     "metadata": {}
    }
   ],
   "source": [
    "# Add marker layer ontop of heat map\n",
    "markers = gmaps.marker_layer(locations)\n",
    "fig.add_layer(markers)\n",
    "fig"
   ]
  },
  {
   "cell_type": "code",
   "execution_count": null,
   "metadata": {},
   "outputs": [],
   "source": []
  }
 ],
 "metadata": {
  "kernelspec": {
   "name": "python3",
   "display_name": "Python 3.6.12 64-bit ('PythonData': conda)",
   "metadata": {
    "interpreter": {
     "hash": "7e70776908222babf9dc71570409ca59cd2fc735a97c1d08f434f84320093273"
    }
   }
  },
  "language_info": {
   "codemirror_mode": {
    "name": "ipython",
    "version": 3
   },
   "file_extension": ".py",
   "mimetype": "text/x-python",
   "name": "python",
   "nbconvert_exporter": "python",
   "pygments_lexer": "ipython3",
   "version": "3.6.12-final"
  },
  "latex_envs": {
   "LaTeX_envs_menu_present": true,
   "autoclose": false,
   "autocomplete": true,
   "bibliofile": "biblio.bib",
   "cite_by": "apalike",
   "current_citInitial": 1,
   "eqLabelWithNumbers": true,
   "eqNumInitial": 1,
   "hotkeys": {
    "equation": "Ctrl-E",
    "itemize": "Ctrl-I"
   },
   "labels_anchors": false,
   "latex_user_defs": false,
   "report_style_numbering": false,
   "user_envs_cfg": false
  }
 },
 "nbformat": 4,
 "nbformat_minor": 4
}